{
 "cells": [
  {
   "cell_type": "code",
   "execution_count": 1,
   "metadata": {},
   "outputs": [
    {
     "ename": "SyntaxError",
     "evalue": "(unicode error) 'unicodeescape' codec can't decode bytes in position 5-6: truncated \\uXXXX escape (<ipython-input-1-5f17178a8b4b>, line 8)",
     "output_type": "error",
     "traceback": [
      "\u001b[1;36m  File \u001b[1;32m\"<ipython-input-1-5f17178a8b4b>\"\u001b[1;36m, line \u001b[1;32m8\u001b[0m\n\u001b[1;33m    Builder.load_file('Users\\user\\Desktop\\HW1\\paint.kv')\u001b[0m\n\u001b[1;37m                     ^\u001b[0m\n\u001b[1;31mSyntaxError\u001b[0m\u001b[1;31m:\u001b[0m (unicode error) 'unicodeescape' codec can't decode bytes in position 5-6: truncated \\uXXXX escape\n"
     ]
    }
   ],
   "source": [
    "from kivy.app import App\n",
    "from kivy.uix.widget import Widget\n",
    "from kivy.graphics import Line, Color\n",
    "from kivy.config import Config\n",
    "from kivy.utils import get_color_from_hex\n",
    "from kivy.uix.togglebutton import ToggleButton, ToggleButtonBehavior\n",
    "from kivy.lang import Builder\n",
    "Builder.load_file('Users\\user\\Desktop\\HW1\\paint.kv')\n",
    "\n",
    "class RadioButton(ToggleButton):\n",
    "    def _do_press(self):\n",
    "        if self.state == 'normal':\n",
    "            # ToggleButtonBehavior._do_press(self)\n",
    "            super()._do_press()\n",
    "\n",
    "\n",
    "class CanvasWidget(Widget):\n",
    "    def __init__(self, *args, **kwargs):\n",
    "        super().__init__(*args, **kwargs)\n",
    "        self.color = get_color_from_hex('#2980B9')\n",
    "        self.line_width = 2\n",
    "\n",
    "    def on_touch_down(self, touch):\n",
    "        if super().on_touch_down(touch):\n",
    "            return\n",
    "        with self.canvas:\n",
    "            Color(*self.color)\n",
    "            touch.ud['current_line'] = Line(points=(touch.x, touch.y), width=self.line_width)\n",
    "\n",
    "    def on_touch_move(self, touch):\n",
    "        try:\n",
    "            touch.ud['current_line'].points += (touch.x, touch.y)\n",
    "        except KeyError:\n",
    "            pass\n",
    "\n",
    "    def set_line_width(self, line_width=2):\n",
    "        self.line_width = line_width\n",
    "\n",
    "    def set_color(self, color):\n",
    "        self.color = color\n",
    "\n",
    "    def clear_canvas(self):\n",
    "        saved_widgets = self.children[:]\n",
    "        self.clear_widgets()\n",
    "        self.canvas.clear()\n",
    "        for widget in saved_widgets:\n",
    "            self.add_widget(widget)\n",
    "\n",
    "\n",
    "class PaintApp(App):\n",
    "    def build(self):\n",
    "        canvas_widget = CanvasWidget()\n",
    "        # canvas_widget.set_color(get_color_from_hex('#2980B9'))\n",
    "        # canvas_widget.set_line_width()\n",
    "        return canvas_widget\n",
    "\n",
    "\n",
    "if __name__ == '__main__':\n",
    "    Config.set('graphics', 'width', '960')\n",
    "    Config.set('graphics', 'height', '540')\n",
    "    # Config.set('input', 'mouse', 'mouse,disable_multitouch')\n",
    "    from kivy.core.window import Window\n",
    "\n",
    "    Window.clearcolor = get_color_from_hex('#FFFFFF')\n",
    "    PaintApp().run()"
   ]
  },
  {
   "cell_type": "code",
   "execution_count": null,
   "metadata": {},
   "outputs": [],
   "source": []
  },
  {
   "cell_type": "code",
   "execution_count": null,
   "metadata": {},
   "outputs": [],
   "source": []
  }
 ],
 "metadata": {
  "kernelspec": {
   "display_name": "Python 3",
   "language": "python",
   "name": "python3"
  },
  "language_info": {
   "codemirror_mode": {
    "name": "ipython",
    "version": 3
   },
   "file_extension": ".py",
   "mimetype": "text/x-python",
   "name": "python",
   "nbconvert_exporter": "python",
   "pygments_lexer": "ipython3",
   "version": "3.7.4"
  }
 },
 "nbformat": 4,
 "nbformat_minor": 2
}
