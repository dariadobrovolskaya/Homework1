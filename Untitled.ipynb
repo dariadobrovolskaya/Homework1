{
 "cells": [
  {
   "cell_type": "code",
   "execution_count": 5,
   "metadata": {},
   "outputs": [
    {
     "name": "stderr",
     "output_type": "stream",
     "text": [
      "[INFO   ] [Logger      ] Record log in C:\\Users\\AsusLamborgini\\.kivy\\logs\\kivy_20-04-28_7.txt\n",
      "[INFO   ] [deps        ] Successfully imported \"kivy_deps.gstreamer\" 0.2.0\n",
      "[INFO   ] [deps        ] Successfully imported \"kivy_deps.angle\" 0.2.0\n",
      "[INFO   ] [deps        ] Successfully imported \"kivy_deps.glew\" 0.2.0\n",
      "[INFO   ] [deps        ] Successfully imported \"kivy_deps.sdl2\" 0.2.0\n",
      "[INFO   ] [Kivy        ] v1.11.1\n",
      "[INFO   ] [Kivy        ] Installed at \"C:\\Users\\AsusLamborgini\\anaconda3\\lib\\site-packages\\kivy\\__init__.py\"\n",
      "[INFO   ] [Python      ] v3.7.6 (default, Jan  8 2020, 16:21:45) [MSC v.1916 32 bit (Intel)]\n",
      "[INFO   ] [Python      ] Interpreter at \"C:\\Users\\AsusLamborgini\\anaconda3\\python.exe\"\n",
      "[INFO   ] [Factory     ] 184 symbols loaded\n",
      "[INFO   ] [Image       ] Providers: img_tex, img_dds, img_sdl2, img_pil, img_gif (img_ffpyplayer ignored)\n",
      "[INFO   ] [Window      ] Provider: sdl2\n",
      "[INFO   ] [GL          ] Using the \"OpenGL\" graphics system\n",
      "[INFO   ] [GL          ] GLEW initialization succeeded\n",
      "[INFO   ] [GL          ] Backend used <glew>\n",
      "[INFO   ] [GL          ] OpenGL version <b'3.3.0'>\n",
      "[INFO   ] [GL          ] OpenGL vendor <b'NVIDIA Corporation'>\n",
      "[INFO   ] [GL          ] OpenGL renderer <b'GeForce 8600M GT/PCIe/SSE2'>\n",
      "[INFO   ] [GL          ] OpenGL parsed version: 3, 3\n",
      "[INFO   ] [GL          ] Shading version <b'3.30 NVIDIA via Cg compiler'>\n",
      "[INFO   ] [GL          ] Texture max size <8192>\n",
      "[INFO   ] [GL          ] Texture max units <32>\n",
      "[INFO   ] [Window      ] auto add sdl2 input provider\n",
      "[INFO   ] [Window      ] virtual keyboard not allowed, single mode, not docked\n",
      "[INFO   ] [Base        ] Start application main loop\n",
      "[INFO   ] [Base        ] Leaving application in progress...\n",
      "[INFO   ] [WindowSDL   ] exiting mainloop and closing.\n"
     ]
    }
   ],
   "source": [
    "from kivy.app import App \n",
    "from kivy.uix.widget import Widget \n",
    "from kivy.graphics import Color,Ellipse,Line\n",
    "\n",
    "class MyPaintWidget(Widget):\n",
    "    def on_touch_down(self,touch):\n",
    "        with self.canvas:\n",
    "            Color(1,1,0)\n",
    "            d = 30.12\n",
    "            Ellipse(pos=(touch.x - d / 2,touch.y - d / 2),size=(d,d))\n",
    "            touch.ud['line']= Line(points=(touch.x,touch.y))\n",
    "        \n",
    "    def on_touch_move(self,touch):\n",
    "        touch.ud['line'].points +=[touch.x,touch.y]\n",
    "class MyPaintApp(App):\n",
    "    def build(self):\n",
    "        return MyPaintWidget()\n",
    "if __name__== '__main__':\n",
    "    MyPaintApp().run()"
   ]
  },
  {
   "cell_type": "code",
   "execution_count": null,
   "metadata": {},
   "outputs": [],
   "source": []
  },
  {
   "cell_type": "code",
   "execution_count": null,
   "metadata": {},
   "outputs": [],
   "source": []
  }
 ],
 "metadata": {
  "kernelspec": {
   "display_name": "Python 3",
   "language": "python",
   "name": "python3"
  },
  "language_info": {
   "codemirror_mode": {
    "name": "ipython",
    "version": 3
   },
   "file_extension": ".py",
   "mimetype": "text/x-python",
   "name": "python",
   "nbconvert_exporter": "python",
   "pygments_lexer": "ipython3",
   "version": "3.7.6"
  }
 },
 "nbformat": 4,
 "nbformat_minor": 4
}
